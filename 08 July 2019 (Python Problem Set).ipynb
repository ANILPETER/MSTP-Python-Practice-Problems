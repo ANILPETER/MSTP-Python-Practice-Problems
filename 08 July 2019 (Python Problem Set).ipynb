{
 "cells": [
  {
   "cell_type": "markdown",
   "metadata": {},
   "source": [
    "### Problem Set:\n",
    "\n",
    "- Function to print all numbers divisible by 6 and not a factor of 100 in a given range(lb, ub) inclusive\n",
    "- Function to find the average of cubes of all even numbers in a given range(lb, ub) inclusive\n",
    "- Function to generate the list of factors for a given number\n",
    "- Function to calculate the factorial of a given number\n",
    "- Function to check if a given number is Prime\n",
    "- Function to calculate the average first N Prime numbers\n",
    "- Function to generate all Perfect numbers in a given range\n",
    "- Advanced Problem Set( Optional )\n",
    "    - Function to calculate the average of all factorials in a given range\n",
    "    - Function to generate N odd Armstrong numbers\n",
    "    - Function to generate Multiplication table for a number in a given range\n",
    "        - 10 in the range(100, 102) inclusive\n",
    "        - 10 x 100 = 1000\n",
    "        - 10 x 101 = 1010\n",
    "        - 10 x 102 = 1020\n",
    "\n",
    "**Problems That needs a Try**\n",
    "\n",
    "- You are given a string and your task is to swap cases. In other words, convert all lowercase letters to uppercase letters and vice versa. (The String may contain special characters).\n",
    "- Given an integer, ’n’ , perform the following conditional actions:\n",
    "    - If ‘n’  is odd, print Weird\n",
    "    - If  ‘n’ is even and in the inclusive range of 2 to 5, print Not Weird\n",
    "    - If  ‘n’ is even and in the inclusive range of 6 to 20 , print Weird\n",
    "    - If  ‘n’ is even and greater than 20, print Not Weird\n",
    "- Given the participants ‘n’ score sheet for your University Sports Day, you are required to find the runner-up score. You are given scores. Store them in a list and find the score of the runner-up. (there can be multiple winners - if their scores match). \n",
    "\n"
   ]
  },
  {
   "cell_type": "code",
   "execution_count": 4,
   "metadata": {},
   "outputs": [
    {
     "name": "stdout",
     "output_type": "stream",
     "text": [
      "1\n",
      "100\n",
      "6\n",
      "12\n",
      "18\n",
      "24\n",
      "30\n",
      "36\n",
      "42\n",
      "48\n",
      "54\n",
      "60\n",
      "66\n",
      "72\n",
      "78\n",
      "84\n",
      "90\n",
      "96\n"
     ]
    }
   ],
   "source": [
    "# Function to print all numbers divisible by 6 and not a factor of 100 in a given range(lb, ub) inclusive\n",
    "\n",
    "lb=int(input())\n",
    "ub=int(input())\n",
    "for x in range(lb,ub+1):\n",
    "    if x%6==0 and x%100!=0:\n",
    "        print(x)"
   ]
  },
  {
   "cell_type": "code",
   "execution_count": 8,
   "metadata": {},
   "outputs": [
    {
     "name": "stdout",
     "output_type": "stream",
     "text": [
      "1\n",
      "10\n",
      "360.0\n"
     ]
    }
   ],
   "source": [
    "# Function to find the average of cubes of all even numbers in a given range(lb, ub) inclusive\n",
    "\n",
    "lb=int(input())\n",
    "ub=int(input())\n",
    "cubes=[]\n",
    "for x in range(lb,ub+1):\n",
    "    if x%2==0:\n",
    "        cubes.append(x**3)\n",
    "        \n",
    "print(sum(cubes)/len(cubes))"
   ]
  },
  {
   "cell_type": "code",
   "execution_count": 10,
   "metadata": {},
   "outputs": [
    {
     "data": {
      "text/plain": [
       "[1, 2, 3, 6]"
      ]
     },
     "execution_count": 10,
     "metadata": {},
     "output_type": "execute_result"
    }
   ],
   "source": [
    "# Function to generate the list of factors for a given number\n",
    "\n",
    "def Factors(N):\n",
    "    factors=[]\n",
    "    for x in range(1,N+1):\n",
    "        if N%x==0:\n",
    "            factors.append(x)\n",
    "            \n",
    "    return factors\n",
    "Factors(6)"
   ]
  },
  {
   "cell_type": "code",
   "execution_count": 11,
   "metadata": {},
   "outputs": [
    {
     "data": {
      "text/plain": [
       "5040"
      ]
     },
     "execution_count": 11,
     "metadata": {},
     "output_type": "execute_result"
    }
   ],
   "source": [
    "# Function to calculate the factorial of a given number\n",
    "def Factorial(N):\n",
    "    fact=1\n",
    "    for num in range(1,N+1):\n",
    "        fact*=num\n",
    "    return fact\n",
    "\n",
    "Factorial(7)"
   ]
  },
  {
   "cell_type": "code",
   "execution_count": 40,
   "metadata": {},
   "outputs": [
    {
     "name": "stdout",
     "output_type": "stream",
     "text": [
      "99 is Not Prime Number\n"
     ]
    }
   ],
   "source": [
    "def isPrime(N):\n",
    "    t=0\n",
    "    for x in range(2,N-1):\n",
    "        if N%x==0:\n",
    "            t=1\n",
    "    if t==0 and N!=1:\n",
    "        #\n",
    "        return 1\n",
    "    return 0\n",
    "\n",
    "N=99\n",
    "p=isPrime(N)\n",
    "\n",
    "if p:\n",
    "    print(N,\"is Prime Number\")\n",
    "else:\n",
    "    print(N,\"is Not Prime Number\")"
   ]
  },
  {
   "cell_type": "code",
   "execution_count": 41,
   "metadata": {},
   "outputs": [
    {
     "data": {
      "text/plain": [
       "21.866666666666667"
      ]
     },
     "execution_count": 41,
     "metadata": {},
     "output_type": "execute_result"
    }
   ],
   "source": [
    "# Function to calculate the average first N Prime numbers\n",
    "\n",
    "def AverageNPrime(N):\n",
    "    sum=0;c=0\n",
    "    for x in range(1,N+1):\n",
    "        if isPrime(x):\n",
    "            sum+=x\n",
    "            c+=1\n",
    "    return sum/c\n",
    "\n",
    "AverageNPrime(50)"
   ]
  },
  {
   "cell_type": "code",
   "execution_count": 62,
   "metadata": {},
   "outputs": [
    {
     "name": "stdout",
     "output_type": "stream",
     "text": [
      "6\n",
      "28\n",
      "496\n"
     ]
    }
   ],
   "source": [
    "# Function to generate all Perfect numbers in a given range\n",
    "\n",
    "def Perfect(lb,ub):\n",
    "    for x in range(lb,ub+1):\n",
    "        factors=Factors(x)\n",
    "        factors.pop()\n",
    "        if sum(factors)==x:\n",
    "            print(x)\n",
    "     \n",
    "\n",
    "            \n",
    "Perfect(1,500)"
   ]
  },
  {
   "cell_type": "code",
   "execution_count": 66,
   "metadata": {},
   "outputs": [
    {
     "data": {
      "text/plain": [
       "844.7142857142857"
      ]
     },
     "execution_count": 66,
     "metadata": {},
     "output_type": "execute_result"
    }
   ],
   "source": [
    "# Function to calculate the average of all factorials in a given range\n",
    "\n",
    "def AvgFactorials(N):\n",
    "    factorials=[]\n",
    "    for num in range(1,N+1):\n",
    "        factorials.append(Factorial(num))\n",
    "    return sum(factorials)/len(factorials)\n",
    "\n",
    "AvgFactorials(7)"
   ]
  },
  {
   "cell_type": "code",
   "execution_count": 1,
   "metadata": {},
   "outputs": [
    {
     "name": "stdout",
     "output_type": "stream",
     "text": [
      "1\n",
      "3\n",
      "5\n",
      "7\n",
      "9\n",
      "153\n",
      "371\n"
     ]
    }
   ],
   "source": [
    "# Function to generate N odd Armstrong numbers\n",
    "\n",
    "def NoddAmstrongNumbers(N):\n",
    "    i=1;c=0\n",
    "    while N!=c:\n",
    "        sum1=0\n",
    "        if len(str(i))==1:\n",
    "            sum1=i**3\n",
    "            if sum1%2!=0:\n",
    "                print(i)\n",
    "                c+=1\n",
    "        else:\n",
    "            for x in str(i):\n",
    "                sum1+=int(x)**3\n",
    "            if sum1==i and sum1%2!=0:\n",
    "                    print(i)\n",
    "                    c+=1\n",
    "        i+=1\n",
    "        \n",
    "    return\n",
    "NoddAmstrongNumbers(7)"
   ]
  },
  {
   "cell_type": "code",
   "execution_count": 2,
   "metadata": {},
   "outputs": [
    {
     "name": "stdout",
     "output_type": "stream",
     "text": [
      "10 x 100 = 1000\n",
      "10 x 101 = 1010\n",
      "10 x 102 = 1020\n"
     ]
    }
   ],
   "source": [
    "# Function to generate Multiplication table for a number in a given range\n",
    "    # 10 in the range(100, 102) inclusive\n",
    "    # 10 x 100 = 1000\n",
    "    # 10 x 101 = 1010\n",
    "    # 10 x 102 = 1020\n",
    "    \n",
    "    \n",
    "def MultiplicationTable(N,lb,ub):\n",
    "    for x in range(lb,ub+1):\n",
    "        print(N,\"x\",x,\"=\",N*x)\n",
    "    return\n",
    "MultiplicationTable(10,100,102)"
   ]
  },
  {
   "cell_type": "code",
   "execution_count": 5,
   "metadata": {},
   "outputs": [
    {
     "name": "stdout",
     "output_type": "stream",
     "text": [
      "JHFBDHBCFQsbcjhbsdKNDDKJBCDSJKR%^sdsacdasR&KJNSKCD\n"
     ]
    }
   ],
   "source": [
    "# You are given a string and your task is to swap cases. In other words, convert all lowercase letters to uppercase letters \n",
    "# and vice versa. (The String may contain special characters).\n",
    "\n",
    "\n",
    "def SwapCase(str):\n",
    "    print(str.swapcase())\n",
    "    return\n",
    "str=\"jhfbdhbcfqSBCJHBSDknddkjbcdsjkr%^SDSACDASr&kjnskcd\"\n",
    "\n",
    "SwapCase(str)"
   ]
  },
  {
   "cell_type": "code",
   "execution_count": 13,
   "metadata": {},
   "outputs": [
    {
     "name": "stdout",
     "output_type": "stream",
     "text": [
      "Weird\n"
     ]
    }
   ],
   "source": [
    "# Given an integer, ’n’ , perform the following conditional actions:\n",
    "    # If ‘n’ is odd, print Weird\n",
    "    # If ‘n’ is even and in the inclusive range of 2 to 5, print Not Weird\n",
    "    # If ‘n’ is even and in the inclusive range of 6 to 20 , print Weird\n",
    "    # If ‘n’ is even and greater than 20, print Not Weird\n",
    "\n",
    "def ConditionalActions(n):\n",
    "    if n%2!=0:\n",
    "        print(\"Weird\")\n",
    "    elif (n<2 and n>5) or (n>20):\n",
    "        print(\"Not Weird\")\n",
    "    else:\n",
    "        print(\"Weird\")\n",
    "        \n",
    "ConditionalActions(10)"
   ]
  },
  {
   "cell_type": "code",
   "execution_count": 18,
   "metadata": {},
   "outputs": [
    {
     "data": {
      "text/plain": [
       "6666"
      ]
     },
     "execution_count": 18,
     "metadata": {},
     "output_type": "execute_result"
    }
   ],
   "source": [
    "# Given the participants ‘n’ score sheet for your University Sports Day, you are required to find the runner-up score. \n",
    "# You are given scores. Store them in a list and find the score of the runner-up. (there can be multiple winners - \n",
    "# if their scores match).\n",
    "\n",
    "def RunnerUp(scores):\n",
    "    score=sorted(list(set(scores)),reverse=True)\n",
    "    return score[1]\n",
    "\n",
    "scores=[1,2,4,5,6,7,99,999,77,665,555,443,332,2,45,6666,99999,99999]\n",
    "RunnerUp(scores)"
   ]
  },
  {
   "cell_type": "code",
   "execution_count": null,
   "metadata": {},
   "outputs": [],
   "source": []
  }
 ],
 "metadata": {
  "kernelspec": {
   "display_name": "Python 3",
   "language": "python",
   "name": "python3"
  },
  "language_info": {
   "codemirror_mode": {
    "name": "ipython",
    "version": 3
   },
   "file_extension": ".py",
   "mimetype": "text/x-python",
   "name": "python",
   "nbconvert_exporter": "python",
   "pygments_lexer": "ipython3",
   "version": "3.7.3"
  }
 },
 "nbformat": 4,
 "nbformat_minor": 2
}
